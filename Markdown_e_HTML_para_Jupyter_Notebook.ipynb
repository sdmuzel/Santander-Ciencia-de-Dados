{
  "nbformat": 4,
  "nbformat_minor": 0,
  "metadata": {
    "interpreter": {
      "hash": "a3e5c53ec2d4a5f697408540edef06c5b2f3d2815be0e792209162fb59331b8e"
    },
    "kernelspec": {
      "display_name": "Python 3",
      "language": "python",
      "name": "python3"
    },
    "language_info": {
      "codemirror_mode": {
        "name": "ipython",
        "version": 3
      },
      "file_extension": ".py",
      "mimetype": "text/x-python",
      "name": "python",
      "nbconvert_exporter": "python",
      "pygments_lexer": "ipython3",
      "version": "3.8.8"
    },
    "colab": {
      "name": "Markdown e HTML para Jupyter Notebook.ipynb",
      "provenance": [],
      "collapsed_sections": [],
      "include_colab_link": true
    }
  },
  "cells": [
    {
      "cell_type": "markdown",
      "metadata": {
        "id": "view-in-github",
        "colab_type": "text"
      },
      "source": [
        "<a href=\"https://colab.research.google.com/github/sdmuzel/Santander-Ciencia-de-Dados/blob/main/Markdown_e_HTML_para_Jupyter_Notebook.ipynb\" target=\"_parent\"><img src=\"https://colab.research.google.com/assets/colab-badge.svg\" alt=\"Open In Colab\"/></a>"
      ]
    },
    {
      "cell_type": "markdown",
      "metadata": {
        "id": "6rztwIGd5dyE"
      },
      "source": [
        "# Markdown e HTML para Jupyter Notebook\n",
        "\n",
        "Principais comando usados no Jupyter Notebook, para stilizar o texto na célula Markdown\n",
        "\n"
      ]
    },
    {
      "cell_type": "markdown",
      "metadata": {
        "id": "5pBUsPvF5dyK"
      },
      "source": [
        "Os blocos Markdown é onde podemos escrever texto, seja ele puro ou com uso de tag de HTML para estilizar e/ou destacar algo no texto.\n",
        "\n",
        "**LINK** :  \n",
        " <a href=\"https://medium.com/analytics-vidhya/the-ultimate-markdown-guide-for-jupyter-notebook-d5e5abf728fd\">The Ultimate Markdown Guide (for Jupyter Notebook)</a>  \n",
        "<a href=\"https://docs.pipz.com/central-de-ajuda/learning-center/guia-basico-de-markdown#open\"> Guia básico de Markdown </a>\n",
        "\n",
        "Nesse tutorial vamos encontrar varias formas desse bloco\n",
        "\n",
        "Sendo que os principais:\n",
        "- [Título de Cabeçalho - Heading](#um)\n",
        "- [Negrito](#dois)\n",
        "- [Itálico](#três)\n",
        "- [Negrito + Itálico](#quatro)\n",
        "- [Paragráfo](#cinco)\n",
        "- [Pular linhas](#seis)\n",
        "- [Listas com marcadores](#sete)\n",
        "- [Tamanho da fonte](#oito)\n",
        "- [Inserindo links](#nove)\n",
        "- [Inserir imagens](#dez)\n",
        "- [Hiperlink entre as células](#onze)\n",
        "- [Tabela](#doze)\n",
        "- [Fórmulas mateméticas](#treze)"
      ]
    },
    {
      "cell_type": "markdown",
      "metadata": {
        "id": "ruirjPkU5dyK"
      },
      "source": [
        "### HEADINGS <a class=\"anchor\" id=\"um\"></a>\n",
        "\n",
        "- # Header 1\n",
        "- ## Header 2\n",
        "- ### Header 3\n",
        "- #### Header 4\n",
        "- ##### Header 5\n",
        "- ###### Header 6"
      ]
    },
    {
      "cell_type": "code",
      "metadata": {
        "id": "2CXLM-Im2dSh"
      },
      "source": [
        "- # Header 1\n",
        "- ## Header 2\n",
        "- ### Header 3\n",
        "- #### Header 4\n",
        "- ##### Header 5\n",
        "- ###### Header 6"
      ],
      "execution_count": null,
      "outputs": []
    },
    {
      "cell_type": "markdown",
      "metadata": {
        "id": "j7ppBWn65dyL"
      },
      "source": [
        "### NEGRITO <a class=\"anchor\" id=\"dois\"></a>\n",
        "\n",
        "**This is bold text**  "
      ]
    },
    {
      "cell_type": "code",
      "metadata": {
        "id": "reufC0uA1VNl"
      },
      "source": [
        "**This is bold text**  \n",
        "__This is bold text__  (2 underline juntos)"
      ],
      "execution_count": null,
      "outputs": []
    },
    {
      "cell_type": "markdown",
      "metadata": {
        "id": "DxZ2jXTN5dyL"
      },
      "source": [
        "### ITÁLICO <a class=\"anchor\" id=\"três\"></a>\n",
        "\n",
        "*This is bold text*  "
      ]
    },
    {
      "cell_type": "code",
      "metadata": {
        "id": "WR4HiDYy1XPB"
      },
      "source": [
        "*This is bold text*  \n",
        "_This is bold text_  (1 underline)"
      ],
      "execution_count": null,
      "outputs": []
    },
    {
      "cell_type": "markdown",
      "metadata": {
        "id": "uFkrR7175dyL"
      },
      "source": [
        "### NEGRITO + ITÁLICO <a class=\"anchor\" id=\"quatro\"></a>\n",
        "\n",
        "***Bold and Italic***  "
      ]
    },
    {
      "cell_type": "code",
      "metadata": {
        "id": "usGdI0wN1cDC"
      },
      "source": [
        "***Bold and Italic***  \n",
        "___Bold and Italic___ (3 undeline juntos)"
      ],
      "execution_count": null,
      "outputs": []
    },
    {
      "cell_type": "markdown",
      "metadata": {
        "id": "hst2wZts5dyL"
      },
      "source": [
        "### PARÁGRAFO <a class=\"anchor\" id=\"cinco\"></a>\n",
        "\n",
        "&emsp; Coloca o texto aqui"
      ]
    },
    {
      "cell_type": "code",
      "metadata": {
        "id": "CFckgO-Q1h9H"
      },
      "source": [
        "&emsp; Agora poe o texto"
      ],
      "execution_count": null,
      "outputs": []
    },
    {
      "cell_type": "markdown",
      "metadata": {
        "id": "_lpBhlom5dyO"
      },
      "source": [
        "### PULAR LINHA <a class=\"anchor\" id=\"seis\"></a>\n",
        "\n",
        "Pode ser adicionado  dois espaços depois da última palavra e pressiona enter  \n",
        "ou \n",
        "\n",
        "ou usar uma tag depois da última palavra<br>"
      ]
    },
    {
      "cell_type": "code",
      "metadata": {
        "id": "4B6_MkE81pbe"
      },
      "source": [
        "texto<br>\n",
        "novo texto <br>"
      ],
      "execution_count": null,
      "outputs": []
    },
    {
      "cell_type": "markdown",
      "metadata": {
        "id": "zyVY6sp_7912"
      },
      "source": [
        "### LISTA DE MARCADORES <a class=\"anchor\" id=\"sete\"></a>\n",
        "\n",
        "* item 1\n",
        "* item 2\n",
        "\n",
        "- item 3\n",
        "- item 4\n",
        "\n",
        "1. item 5\n",
        "2. item 6\n",
        "\n",
        "\n",
        "Em bloco:\n",
        "\n",
        "> item 7\n",
        "> item 8\n"
      ]
    },
    {
      "cell_type": "code",
      "metadata": {
        "id": "fLqZNdbg1yo1"
      },
      "source": [
        "\n",
        "* item 1\n",
        "* item 2\n",
        "\n",
        "- item 3\n",
        "- item 4\n",
        "\n",
        "1. item 5\n",
        "2. item 6\n",
        "\n",
        "\n",
        "Em bloco:\n",
        "\n",
        "> item 7\n",
        "> item 8"
      ],
      "execution_count": null,
      "outputs": []
    },
    {
      "cell_type": "markdown",
      "metadata": {
        "id": "poBWzrSP5dyP"
      },
      "source": [
        "\n",
        "### TAMANHO DA FONTE <a class=\"anchor\" id=\"oito\"></a>\n",
        "\n",
        "\n",
        " <font size=\"1\"> This is my text number1</font> \n",
        "\n",
        " <font size=\"2\"> This is my text number 2 </font>\n",
        " \n",
        " <font size=\"3\"> This is my text number 3</font> \n",
        " \n",
        " <font size=\"4\"> This is my text number 4</font> \n",
        " \n",
        " <font size=\"5\"> This is my text number 5</font> \n",
        " \n",
        " <font size=\"6\"> This is my text number 6</font>"
      ]
    },
    {
      "cell_type": "code",
      "metadata": {
        "id": "7E-ZqKBD11mU"
      },
      "source": [
        " <font size=\"1\"> This is my text number1</font> \n",
        "\n",
        " <font size=\"2\"> This is my text number 2 </font>\n",
        " \n",
        " <font size=\"3\"> This is my text number 3</font> \n",
        " \n",
        " <font size=\"4\"> This is my text number 4</font> \n",
        " \n",
        " <font size=\"5\"> This is my text number 5</font> \n",
        " \n",
        " <font size=\"6\"> This is my text number 6</font>"
      ],
      "execution_count": null,
      "outputs": []
    },
    {
      "cell_type": "markdown",
      "metadata": {
        "id": "ogMz4khP5dyO"
      },
      "source": [
        "### INSERINDO LINKS <a class=\"anchor\" id=\"nove\"></a>\n",
        "\n",
        "- Markdown  \n",
        "[click me](https://en.wikipedia.org)  \n",
        "\n",
        "- HTML   \n",
        "<a href=\"https://jupyterbook.org/content/figures.html\"> Como add imgem no JN </a>"
      ]
    },
    {
      "cell_type": "code",
      "metadata": {
        "id": "UbVlrJu313lC"
      },
      "source": [
        "- Markdown  \n",
        "[click me](https://en.wikipedia.org)  \n",
        "\n",
        "- HTML   \n",
        "<a href=\"https://jupyterbook.org/content/figures.html\"> Como add imgem no JN </a>"
      ],
      "execution_count": null,
      "outputs": []
    },
    {
      "cell_type": "markdown",
      "metadata": {
        "id": "xvWugSYp5dyP"
      },
      "source": [
        "### INSERIR IMAGENS <a class=\"anchor\" id=\"dez\"></a>\n",
        "\n",
        "1- Você também pode arrastar e soltar suas imagens na célula Markdown para anexá-la, ou copiar e colar. Porém isso vai gerar uma grande quantidade de linhas e o seu bloco vai ficar enorme antes rodar<br>\n",
        "2- Podemos usar o link da web da imagem  ou o caminho do arquivo (caso esteja no PC) dentro de uma tag.<br>\n",
        "\n",
        "**Tutorial:** <a href=\"https://jupyterbook.org/content/figures.html\"> Como add imgem no JN </a>\n",
        "\n",
        "**Usando um link da web<br>**\n",
        "--> Estilo HTML  \n",
        "<img src=\"https://www.python.org/static/community_logos/python-logo-master-v3-TM.png\" width=\"600\"/><br>\n",
        "\n",
        "--> Estilo Markdown sem título  \n",
        "![](https://www.python.org/static/community_logos/python-logo-master-v3-TM.png)\n",
        "\n",
        "--> Estilo Markdown com título  \n",
        "![](https://www.python.org/static/community_logos/python-logo-master-v3-TM.png)\n",
        "\n",
        "\n",
        "**Para uma imagem offline: adicionar o nome do arquivo completo (mais o caminho do arquivo se ele estiver em um diretório diferente do Jupyter Notebook).**  \n",
        "-> Dentro da pasta do JN  \n",
        "<img src=\"My_picture.jpg\" style=\"height:200px\">\n",
        "\n",
        "--> Fora da pasta do JN \n",
        "<img src=\"caminho/My_picture.jpp\" style=\"height:200px\"> \n",
        "\n",
        "ou\n",
        "\n",
        "![<caption>](folder/image_filename.png)"
      ]
    },
    {
      "cell_type": "code",
      "metadata": {
        "id": "0rEegrIP1-fy"
      },
      "source": [
        "--> Estilo HTML  \n",
        "<img src=\"https://www.python.org/static/community_logos/python-logo-master-v3-TM.png\" width=\"600\"/><br>\n",
        "\n",
        "--> Estilo Markdown sem título  \n",
        "![](https://www.python.org/static/community_logos/python-logo-master-v3-TM.png)\n",
        "\n",
        "--> Estilo Markdown com título  \n",
        "![](https://www.python.org/static/community_logos/python-logo-master-v3-TM.png)\n",
        "\n",
        "-> Dentro da pasta do JN  \n",
        "<img src=\"My_picture.jpg\" style=\"height:200px\">\n",
        "\n",
        "--> Fora da pasta do JN \n",
        "<img src=\"caminho/My_picture.jpp\" style=\"height:200px\"> \n",
        "\n",
        "ou\n",
        "\n",
        "![<caption>](folder/image_filename.png)\n"
      ],
      "execution_count": null,
      "outputs": []
    },
    {
      "cell_type": "markdown",
      "metadata": {
        "id": "vwRBJYz85dyP"
      },
      "source": [
        "### HIPERLINK ENTRE AS CÉLULAS<a class=\"anchor\" id=\"onze\"></a>\n",
        "\n",
        "Table of Contents\n",
        "\n",
        "* [Chapter 1](#chapter1)\n",
        "    * [Section 1.1](#section_1_1)\n",
        "    * [Section 1.2](sSection_1_2)\n",
        "        * [Section 1.2.1](#section_1_2_1)\n",
        "        * [Section 1.2.2](#section_1_2_2)\n",
        "        * [Section 1.2.3](#section_1_2_3)\n",
        "* [Chapter 2](#chapter2)\n",
        "    * [Section 2.1](#section_2_1)\n",
        "    * [Section 2.2](#section_2_2)\n",
        "\n",
        "\n",
        "E na celula vc coloca: \n",
        "\n",
        "### Chapter 1 <a class=\"anchor\" id=\"chapter1\"></a>"
      ]
    },
    {
      "cell_type": "code",
      "metadata": {
        "id": "cvSG_wiW2Icz"
      },
      "source": [
        "* [Chapter 1](#chapter1)\n",
        "    * [Section 1.1](#section_1_1)\n",
        "    * [Section 1.2](sSection_1_2)\n",
        "        * [Section 1.2.1](#section_1_2_1)\n",
        "        * [Section 1.2.2](#section_1_2_2)\n",
        "        * [Section 1.2.3](#section_1_2_3)\n",
        "* [Chapter 2](#chapter2)\n",
        "    * [Section 2.1](#section_2_1)\n",
        "    * [Section 2.2](#section_2_2)\n",
        "\n",
        "\n",
        "E na celula vc coloca: \n",
        "\n",
        "### Chapter 1 <a class=\"anchor\" id=\"chapter1\"></a>"
      ],
      "execution_count": null,
      "outputs": []
    },
    {
      "cell_type": "markdown",
      "metadata": {
        "id": "Q7yzQzk0Bxwk"
      },
      "source": [
        "### TABELA <a class=\"anchor\" id=\"doze\"></a>\n",
        "\n",
        "| Header | Another header | Yet another header |\n",
        "|--- |--- |--- |\n",
        "| row 1 | column 2 | column 3 |\n",
        "| row 2 | row 2 column 2 | row 2 column 3 |\n"
      ]
    },
    {
      "cell_type": "code",
      "metadata": {
        "id": "Y2XnOYBD2LNW"
      },
      "source": [
        "| Header | Another header | Yet another header |\n",
        "|--- |--- |--- |\n",
        "| row 1 | column 2 | column 3 |\n",
        "| row 2 | row 2 column 2 | row 2 column 3 |"
      ],
      "execution_count": null,
      "outputs": []
    },
    {
      "cell_type": "markdown",
      "metadata": {
        "id": "Rri0U0tIiF2u"
      },
      "source": [
        "### FÓRMULAS MATEMÁTICAS <a class=\"anchor\" id=\"treze\"></a>\n",
        "\n",
        "1. \n",
        "$$\\alpha^2 + \\beta^2 = \\chi^2$$\n",
        "\n",
        "2. \n",
        "$$\\frac{\\sqrt{1}}{2} * \\frac{a}{2b} = \\frac{a}{4b}$$\n",
        "\n",
        "3. \n",
        "$$\\sum_0^{10} x = ...$$\n",
        "\n",
        "Para add os simbolos: https://www.caam.rice.edu/~heinken/latex/symbols.pdf\n",
        "\n",
        "\n"
      ]
    },
    {
      "cell_type": "code",
      "metadata": {
        "id": "vmmaG-HXjGbY"
      },
      "source": [
        "1. \n",
        "$$\\alpha^2 + \\beta^2 = \\chi^2$$\n",
        "\n",
        "2. \n",
        "$$\\frac{\\sqrt{1}}{2} * \\frac{a}{2b} = \\frac{a}{4b}$$\n",
        "\n",
        "3. \n",
        "$$\\sum_0^{10} x = ...$$"
      ],
      "execution_count": null,
      "outputs": []
    }
  ]
}